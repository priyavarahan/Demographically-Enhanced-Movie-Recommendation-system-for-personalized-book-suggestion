{
 "cells": [
  {
   "cell_type": "markdown",
   "id": "311426c2",
   "metadata": {},
   "source": [
    "# Script of  Changing the schema\n",
    "\n"
   ]
  },
  {
   "cell_type": "code",
   "execution_count": null,
   "id": "76bb2abe",
   "metadata": {},
   "outputs": [],
   "source": [
    "import sys\n",
    "from awsglue.transforms import *\n",
    "from awsglue.utils import getResolvedOptions\n",
    "from pyspark.context import SparkContext\n",
    "from awsglue.context import GlueContext\n",
    "from awsglue.job import Job\n",
    "\n",
    "args = getResolvedOptions(sys.argv, [\"JOB_NAME\"])\n",
    "sc = SparkContext()\n",
    "glueContext = GlueContext(sc)\n",
    "spark = glueContext.spark_session\n",
    "job = Job(glueContext)\n",
    "job.init(args[\"JOB_NAME\"], args)\n",
    "\n",
    "# Script generated for node Amazon S3\n",
    "AmazonS3_node1702245123389 = glueContext.create_dynamic_frame.from_options(\n",
    "    format_options={\"quoteChar\": '\"', \"withHeader\": True, \"separator\": \",\"},\n",
    "    connection_type=\"s3\",\n",
    "    format=\"csv\",\n",
    "    connection_options={\n",
    "        \"paths\": [\"s3://clean-book-data/book_train_data.csv\"],\n",
    "        \"recurse\": True,\n",
    "    },\n",
    "    transformation_ctx=\"AmazonS3_node1702245123389\",\n",
    ")\n",
    "\n",
    "# Script generated for node Change Schema\n",
    "ChangeSchema_node1702245125826 = ApplyMapping.apply(\n",
    "    frame=AmazonS3_node1702245123389,\n",
    "    mappings=[],\n",
    "    transformation_ctx=\"ChangeSchema_node1702245125826\",\n",
    ")\n",
    "\n",
    "# Script generated for node Amazon S3\n",
    "AmazonS3_node1702245241504 = glueContext.write_dynamic_frame.from_options(\n",
    "    frame=ChangeSchema_node1702245125826,\n",
    "    connection_type=\"s3\",\n",
    "    format=\"csv\",\n",
    "    connection_options={\n",
    "        \"path\": \"s3://clean-book-data\",\n",
    "        \"compression\": \"snappy\",\n",
    "        \"partitionKeys\": [],\n",
    "    },\n",
    "    transformation_ctx=\"AmazonS3_node1702245241504\",\n",
    ")\n",
    "\n",
    "job.commit()"
   ]
  },
  {
   "cell_type": "markdown",
   "id": "af64aaf4",
   "metadata": {},
   "source": [
    "# Script for droping null"
   ]
  },
  {
   "cell_type": "code",
   "execution_count": null,
   "id": "25ef8097",
   "metadata": {},
   "outputs": [],
   "source": [
    "\n",
    "import sys\n",
    "from awsglue.transforms import *\n",
    "from awsglue.utils import getResolvedOptions\n",
    "from pyspark.context import SparkContext\n",
    "from awsglue.context import GlueContext\n",
    "from awsglue.job import Job\n",
    "from awsglue.dynamicframe import DynamicFrame\n",
    "from pyspark.sql import functions as SqlFuncs\n",
    "\n",
    "args = getResolvedOptions(sys.argv, [\"JOB_NAME\"])\n",
    "sc = SparkContext()\n",
    "glueContext = GlueContext(sc)\n",
    "spark = glueContext.spark_session\n",
    "job = Job(glueContext)\n",
    "job.init(args[\"JOB_NAME\"], args)\n",
    "\n",
    "# Script generated for node Amazon S3\n",
    "AmazonS3_node1702245123389 = glueContext.create_dynamic_frame.from_options(\n",
    "    format_options={\"quoteChar\": '\"', \"withHeader\": True, \"separator\": \",\"},\n",
    "    connection_type=\"s3\",\n",
    "    format=\"csv\",\n",
    "    connection_options={\n",
    "        \"paths\": [\"s3://clean-book-data/book_train_data.csv\"],\n",
    "        \"recurse\": True,\n",
    "    },\n",
    "    transformation_ctx=\"AmazonS3_node1702245123389\",\n",
    ")\n",
    "\n",
    "# Script generated for node Drop Duplicates\n",
    "DropDuplicates_node1702245963627 = DynamicFrame.fromDF(\n",
    "    AmazonS3_node1702245123389.toDF().dropDuplicates(),\n",
    "    glueContext,\n",
    "    \"DropDuplicates_node1702245963627\",\n",
    ")\n"
   ]
  }
 ],
 "metadata": {
  "kernelspec": {
   "display_name": "Python 3 (ipykernel)",
   "language": "python",
   "name": "python3"
  },
  "language_info": {
   "codemirror_mode": {
    "name": "ipython",
    "version": 3
   },
   "file_extension": ".py",
   "mimetype": "text/x-python",
   "name": "python",
   "nbconvert_exporter": "python",
   "pygments_lexer": "ipython3",
   "version": "3.11.4"
  }
 },
 "nbformat": 4,
 "nbformat_minor": 5
}
